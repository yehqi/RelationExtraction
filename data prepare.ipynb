{
 "cells": [
  {
   "cell_type": "code",
   "execution_count": 1,
   "metadata": {},
   "outputs": [],
   "source": [
    "import json\n",
    "import re"
   ]
  },
  {
   "cell_type": "code",
   "execution_count": 2,
   "metadata": {},
   "outputs": [],
   "source": [
    "data_dir = './CMeIE/'"
   ]
  },
  {
   "cell_type": "code",
   "execution_count": 3,
   "metadata": {},
   "outputs": [],
   "source": [
    "relation_schemas = []\n",
    "for line in open(data_dir + '53_schemas.json',encoding='utf-8'):\n",
    "    predicate = json.loads(line)['predicate']\n",
    "    if predicate not in relation_schemas:\n",
    "        relation_schemas.append(predicate)"
   ]
  },
  {
   "cell_type": "code",
   "execution_count": 4,
   "metadata": {},
   "outputs": [],
   "source": [
    "label_mapping = {\n",
    "    'DO':['预防','阶段','就诊科室'], # Disease_Others\n",
    "    'DOT':['辅助治疗','化疗','放射治疗'], # Disease_Other Therapy\n",
    "    'DST':['手术治疗'], # Disease_Surgical Therapy\n",
    "    'DT':['实验室检查','影像学检查','辅助检查','组织学检查','内窥镜检查','筛查'], # Disease_Test\n",
    "    'DE':['多发群体','发病率','发病年龄','多发地区','发病性别倾向','死亡率','传播途径','多发季节'], # Disease_Epidemiology\n",
    "    'DDi':['并发症','病理分型','相关（导致）','鉴别诊断','相关（转化）','相关（症状）'], # Disease_Disease\n",
    "    'DSy':['临床表现','治疗后症状','侵及周围组织转移的症状'], # Disease_Symptoms\n",
    "    'DSo':['病因','高危因素','风险评估因素','病史','遗传因素','发病机制','病理生理'], # Disease_Sociology\n",
    "    'DDr':['药物治疗'], # Disease_Drugs\n",
    "    'DB':['发病部位','转移部位','外侵部位'], # Disease_Body\n",
    "    'DP':['预后状况','预后生存率'], # Disease_Prognosis\n",
    "    'Synonyms':['同义词'] # Synonyms\n",
    "}"
   ]
  },
  {
   "cell_type": "code",
   "execution_count": 6,
   "metadata": {},
   "outputs": [
    {
     "data": {
      "text/plain": [
       "12"
      ]
     },
     "execution_count": 6,
     "metadata": {},
     "output_type": "execute_result"
    }
   ],
   "source": [
    "len(label_mapping.values())"
   ]
  },
  {
   "cell_type": "code",
   "execution_count": 218,
   "metadata": {},
   "outputs": [],
   "source": [
    "# 统计出现次数最多的关系\n",
    "# labels = list(label_mapping.keys())\n",
    "# label_count = [0] * len(label_mapping)\n",
    "# sequence_count = [0] * len(label_mapping)"
   ]
  },
  {
   "cell_type": "code",
   "execution_count": 219,
   "metadata": {},
   "outputs": [],
   "source": [
    "Disease_Disease_Label_Mapping = {\n",
    "    '并发症':'C',\n",
    "    '病理分型':'PA',\n",
    "    '相关（导致）':'RO',\n",
    "    '鉴别诊断':'DD',\n",
    "    '相关（转化）':'RT',\n",
    "    '相关（症状）':'RS'\n",
    "}"
   ]
  },
  {
   "cell_type": "code",
   "execution_count": 220,
   "metadata": {},
   "outputs": [],
   "source": [
    "# labels = list(Disease_Disease_Label_Mapping.keys())\n",
    "# label_count = [0] * len(Disease_Disease_Label_Mapping)\n",
    "# sequence_count = [0] * len(Disease_Disease_Label_Mapping)"
   ]
  },
  {
   "cell_type": "code",
   "execution_count": 221,
   "metadata": {},
   "outputs": [],
   "source": [
    "def labeling(text_index,label_tmp,start,end,template,error_index,flag):\n",
    "    if flag == 'subject':\n",
    "        if label_tmp[start:end] == ['O']*(end-start) or (label_tmp[start:start+1] == ['B-'+template+'-1'] and label_tmp[start+1:end] == ['I-'+template+'-1']*(end-start-1)):\n",
    "            label_tmp = label_tmp[0:start] + ['B-'+template+'-1']*1 + label_tmp[start+1:]\n",
    "            label_tmp = label_tmp[0:start+1] + ['I-'+template+'-1']*(end-start-1) + label_tmp[end:]\n",
    "        else:\n",
    "            if text_index not in error_index:\n",
    "                error_index.append(text_index)\n",
    "    else:\n",
    "        if label_tmp[start:end] == ['O']*(end-start) or (label_tmp[start:start+1] == ['B-'+template+'-2'] and label_tmp[start+1:end] == ['I-'+template+'-2']*(end-start-1)):\n",
    "            label_tmp = label_tmp[0:start] + ['B-'+template+'-2']*1 + label_tmp[start+1:]\n",
    "            label_tmp = label_tmp[0:start+1] + ['I-'+template+'-2']*(end-start-1) + label_tmp[end:]\n",
    "        else:\n",
    "            if text_index not in error_index:\n",
    "                error_index.append(text_index)\n",
    "    return label_tmp,error_index"
   ]
  },
  {
   "cell_type": "code",
   "execution_count": 222,
   "metadata": {},
   "outputs": [],
   "source": [
    "def dealing_escape_tag(escape_tag,subject_):\n",
    "    for tag in escape_tag:\n",
    "        escape_index = subject_.find(tag)\n",
    "        if escape_index > -1:\n",
    "            subject_list = list(subject_)\n",
    "            if escape_index > 0:\n",
    "                subject_list.insert(escape_index-1, '\\\\')\n",
    "                subject_ = ''.join(subject_list)\n",
    "            else:\n",
    "                subject_ = '\\\\' + subject_\n",
    "    return subject_      "
   ]
  },
  {
   "cell_type": "code",
   "execution_count": 223,
   "metadata": {
    "scrolled": true
   },
   "outputs": [],
   "source": [
    "def generate_dataset(dataset_name):\n",
    "    train = {\n",
    "        'text':[],\n",
    "        'label':[]\n",
    "    }\n",
    "    train_final = {\n",
    "        'text':[],\n",
    "        'label':[]\n",
    "    }\n",
    "    text_index = 0\n",
    "    escape_tag = ['（','）','(',')']\n",
    "    ignore_index = []\n",
    "    error_index = []\n",
    "    for line in open(data_dir + dataset_name,encoding='utf-8'):\n",
    "        text = json.loads(line)['text']\n",
    "        train['text'].append(text)\n",
    "\n",
    "        spo_list = json.loads(line)['spo_list']\n",
    "\n",
    "        label_tmp = ['O']*len(text)\n",
    "\n",
    "        predicates = list(set(list(map(lambda x:x['predicate'],spo_list))))\n",
    "        predicates_intersection = [item for item in predicates if item in list(Disease_Disease_Label_Mapping.keys())]\n",
    "\n",
    "        if len(predicates_intersection) == 0:\n",
    "            ignore_index.append(text_index)\n",
    "        else:\n",
    "            for item in spo_list:\n",
    "                relation_sub_label = item['predicate']\n",
    "                subject_ = item['subject']\n",
    "                object_ = item['object']['@value']\n",
    "                if relation_sub_label in Disease_Disease_Label_Mapping:\n",
    "                    subject_ = dealing_escape_tag(escape_tag,subject_)\n",
    "                    object_ =  dealing_escape_tag(escape_tag,object_)\n",
    "                    try:\n",
    "                        subject_index = [(m.start(0), m.end(0)) for m in re.finditer(subject_, text)]\n",
    "                        object_index = [(m.start(0), m.end(0)) for m in re.finditer(object_, text)]\n",
    "                    except Exception:\n",
    "        #                 print('escape_error',text_index)\n",
    "                        if text_index not in error_index:\n",
    "                            error_index.append(text_index)\n",
    "                    for item in subject_index:\n",
    "                        label_tmp,error_index = labeling(text_index,label_tmp,item[0],item[1],Disease_Disease_Label_Mapping[relation_sub_label],error_index,'subject')\n",
    "                    for item in object_index:\n",
    "                        label_tmp,error_index = labeling(text_index,label_tmp,item[0],item[1],Disease_Disease_Label_Mapping[relation_sub_label],error_index,'object')\n",
    "        #             print(text)\n",
    "        #             print(subject,object_)\n",
    "        text_index += 1\n",
    "        train['label'].append(label_tmp)\n",
    "\n",
    "    for index,item in enumerate(train['text']):\n",
    "        if index not in ignore_index and index not in error_index:\n",
    "            train_final['text'].append(train['text'][index])\n",
    "            train_final['label'].append(train['label'][index])\n",
    "    return train_final  "
   ]
  },
  {
   "cell_type": "code",
   "execution_count": 224,
   "metadata": {},
   "outputs": [],
   "source": [
    "train = generate_dataset('CMeIE_train.json')\n",
    "dev = generate_dataset('CMeIE_dev.json')"
   ]
  },
  {
   "cell_type": "code",
   "execution_count": 225,
   "metadata": {},
   "outputs": [],
   "source": [
    "import pickle\n",
    "with open(data_dir + 'CMeIE_train', 'wb') as f_train:\n",
    "    pickle.dump(train, f_train)\n",
    "with open(data_dir + 'CMeIE_dev', 'wb') as f_val:\n",
    "    pickle.dump(dev, f_val)"
   ]
  },
  {
   "cell_type": "code",
   "execution_count": 228,
   "metadata": {},
   "outputs": [],
   "source": [
    "def dataset_to_txt(target_txt_name,dataset):\n",
    "    with open(data_dir + target_txt_name,'w') as f:\n",
    "        res = ''\n",
    "        for t_index,item in enumerate(dataset['text']):\n",
    "            char_list = list(item)\n",
    "            for c_index,char in enumerate(char_list):\n",
    "                res += (char+'\\t')\n",
    "                res += dataset['label'][t_index][c_index]\n",
    "                res += '\\n'\n",
    "            res += '\\n'\n",
    "        f.write(res)"
   ]
  },
  {
   "cell_type": "code",
   "execution_count": 229,
   "metadata": {},
   "outputs": [],
   "source": [
    "dataset_to_txt('CMeIE_train.txt',train)\n",
    "dataset_to_txt('CMeIE_dev.txt',dev)"
   ]
  },
  {
   "cell_type": "code",
   "execution_count": 64,
   "metadata": {},
   "outputs": [],
   "source": [
    "train_spo_list = []\n",
    "for line in open(data_dir + 'CMeIE_train.json',encoding='utf-8'):\n",
    "    spo_list = json.loads(line)['spo_list']\n",
    "    train_spo_list.append(spo_list)"
   ]
  },
  {
   "cell_type": "code",
   "execution_count": 65,
   "metadata": {},
   "outputs": [],
   "source": [
    "from sklearn import model_selection\n",
    "\n",
    "pool, labeled = model_selection.train_test_split(train_spo_list,test_size=0.2 ,random_state=1213)"
   ]
  },
  {
   "cell_type": "code",
   "execution_count": 76,
   "metadata": {},
   "outputs": [],
   "source": [
    "labels = list(Disease_Disease_Label_Mapping.keys())"
   ]
  },
  {
   "cell_type": "code",
   "execution_count": 77,
   "metadata": {},
   "outputs": [
    {
     "data": {
      "text/plain": [
       "['并发症', '病理分型', '相关（导致）', '鉴别诊断', '相关（转化）', '相关（症状）']"
      ]
     },
     "execution_count": 77,
     "metadata": {},
     "output_type": "execute_result"
    }
   ],
   "source": [
    "labels"
   ]
  },
  {
   "cell_type": "code",
   "execution_count": 78,
   "metadata": {},
   "outputs": [],
   "source": [
    "label_count = [0] * len(labels)\n",
    "sequence_count = [0] * len(labels)"
   ]
  },
  {
   "cell_type": "code",
   "execution_count": 79,
   "metadata": {},
   "outputs": [],
   "source": [
    "# 统计“疾病-疾病”子关系关系出现的次数\n",
    "for spo_list in labeled:\n",
    "    for item in spo_list:\n",
    "        relation_sub_label = item['predicate']\n",
    "        for index,label in enumerate(labels):\n",
    "            if label == relation_sub_label:\n",
    "                label_count[index] += 1"
   ]
  },
  {
   "cell_type": "code",
   "execution_count": 80,
   "metadata": {},
   "outputs": [
    {
     "data": {
      "text/plain": [
       "[447, 351, 284, 245, 173, 76]"
      ]
     },
     "execution_count": 80,
     "metadata": {},
     "output_type": "execute_result"
    }
   ],
   "source": [
    "label_count"
   ]
  },
  {
   "cell_type": "code",
   "execution_count": 48,
   "metadata": {},
   "outputs": [],
   "source": [
    "# 统计关系出现的次数\n",
    "for line in open(data_dir + 'CMeIE_train.json',encoding='utf-8'):\n",
    "    text = json.loads(line)['text']\n",
    "    spo_list = json.loads(line)['spo_list']\n",
    "    for item in spo_list:\n",
    "        relation_sub_label = item['predicate']\n",
    "        relation_label = list(filter(lambda x:relation_sub_label in x[1],label_mapping.items()))[0][0] \n",
    "        for index,label in enumerate(labels):\n",
    "            if label == relation_label:\n",
    "                label_count[index] += 1\n",
    "    for index,label in enumerate(labels):\n",
    "        if label == relation_label:\n",
    "            sequence_count[index] += 1"
   ]
  },
  {
   "cell_type": "code",
   "execution_count": 49,
   "metadata": {},
   "outputs": [
    {
     "data": {
      "text/plain": [
       "['DO',\n",
       " 'DOT',\n",
       " 'DST',\n",
       " 'DT',\n",
       " 'DE',\n",
       " 'DDi',\n",
       " 'DSy',\n",
       " 'DSo',\n",
       " 'DDr',\n",
       " 'DB',\n",
       " 'DP',\n",
       " 'Synonyms']"
      ]
     },
     "execution_count": 49,
     "metadata": {},
     "output_type": "execute_result"
    }
   ],
   "source": [
    "labels"
   ]
  },
  {
   "cell_type": "code",
   "execution_count": 50,
   "metadata": {},
   "outputs": [
    {
     "data": {
      "text/plain": [
       "[641, 1833, 923, 4433, 1857, 7879, 11761, 4617, 4570, 1536, 265, 3345]"
      ]
     },
     "execution_count": 50,
     "metadata": {},
     "output_type": "execute_result"
    }
   ],
   "source": [
    "label_count"
   ]
  },
  {
   "cell_type": "code",
   "execution_count": 51,
   "metadata": {},
   "outputs": [
    {
     "data": {
      "text/plain": [
       "[289, 804, 454, 1925, 780, 2335, 2658, 1566, 1879, 413, 101, 1135]"
      ]
     },
     "execution_count": 51,
     "metadata": {},
     "output_type": "execute_result"
    }
   ],
   "source": [
    "sequence_count"
   ]
  },
  {
   "cell_type": "code",
   "execution_count": 21,
   "metadata": {
    "scrolled": true
   },
   "outputs": [
    {
     "data": {
      "text/plain": [
       "['预防',\n",
       " '阶段',\n",
       " '就诊科室',\n",
       " '同义词',\n",
       " '辅助治疗',\n",
       " '化疗',\n",
       " '放射治疗',\n",
       " '手术治疗',\n",
       " '实验室检查',\n",
       " '影像学检查',\n",
       " '辅助检查',\n",
       " '组织学检查',\n",
       " '内窥镜检查',\n",
       " '筛查',\n",
       " '多发群体',\n",
       " '发病率',\n",
       " '发病年龄',\n",
       " '多发地区',\n",
       " '发病性别倾向',\n",
       " '死亡率',\n",
       " '多发季节',\n",
       " '传播途径',\n",
       " '并发症',\n",
       " '病理分型',\n",
       " '相关（导致）',\n",
       " '鉴别诊断',\n",
       " '相关（转化）',\n",
       " '相关（症状）',\n",
       " '临床表现',\n",
       " '治疗后症状',\n",
       " '侵及周围组织转移的症状',\n",
       " '病因',\n",
       " '高危因素',\n",
       " '风险评估因素',\n",
       " '病史',\n",
       " '遗传因素',\n",
       " '发病机制',\n",
       " '病理生理',\n",
       " '药物治疗',\n",
       " '发病部位',\n",
       " '转移部位',\n",
       " '外侵部位',\n",
       " '预后状况',\n",
       " '预后生存率']"
      ]
     },
     "execution_count": 21,
     "metadata": {},
     "output_type": "execute_result"
    }
   ],
   "source": [
    "relation_schemas"
   ]
  },
  {
   "cell_type": "code",
   "execution_count": null,
   "metadata": {},
   "outputs": [],
   "source": []
  }
 ],
 "metadata": {
  "kernelspec": {
   "display_name": "ActiveLearning",
   "language": "python",
   "name": "activelearning"
  },
  "language_info": {
   "codemirror_mode": {
    "name": "ipython",
    "version": 3
   },
   "file_extension": ".py",
   "mimetype": "text/x-python",
   "name": "python",
   "nbconvert_exporter": "python",
   "pygments_lexer": "ipython3",
   "version": "3.6.2"
  }
 },
 "nbformat": 4,
 "nbformat_minor": 2
}
